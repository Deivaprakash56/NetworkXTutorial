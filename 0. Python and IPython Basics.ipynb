{
 "cells": [
  {
   "cell_type": "markdown",
   "metadata": {},
   "source": [
    "# 1. What is this?"
   ]
  },
  {
   "cell_type": "markdown",
   "metadata": {},
   "source": [
    "NetworkX is a python module and so requires at least partial understanding of the python programming language. Python is a dynamic, imperative language. This means there is no compilation, or any extra steps to make your code work. You can just type in your commands and things will just work.\n",
    "\n",
    "We are going to use something called [Jupyter Notebook](http://jupyter.org/), as it makes research easily understood and reproducible. This notebook will serve as a quick introduction to Python and Jupyter notebook.\n",
    "\n",
    "For example, to print out the words `Hello, World`, all we have to do is enter the following code, and execute it. To execute code click in the box below (called a cell) and hold the Shift key and press Enter."
   ]
  },
  {
   "cell_type": "code",
   "execution_count": null,
   "metadata": {
    "collapsed": false
   },
   "outputs": [],
   "source": [
    "print(\"Hello, World\")"
   ]
  },
  {
   "cell_type": "markdown",
   "metadata": {},
   "source": [
    "Now let's try to print something else. Instead of having python print `Hello, World`, have it print your name! Click in the box and type the code to do that."
   ]
  },
  {
   "cell_type": "code",
   "execution_count": null,
   "metadata": {
    "collapsed": false
   },
   "outputs": [],
   "source": []
  },
  {
   "cell_type": "markdown",
   "metadata": {},
   "source": [
    "The notebook contains *cells* which you can enter code into. To make a new cell below this one, click on this text, then hit the ESC key, then hit the 'b' button on your keyboard."
   ]
  },
  {
   "cell_type": "markdown",
   "metadata": {},
   "source": [
    "Anytime you want to insert a new cell, you can click somewhere, hit the escape key, then hit 'b' to insert a new cell below, or 'a' to put a new cell above. You can double click this text to edit it. Execute all the code cells that are already in the notebook as you go!"
   ]
  },
  {
   "cell_type": "markdown",
   "metadata": {},
   "source": [
    "## 2. Python Basics"
   ]
  },
  {
   "cell_type": "markdown",
   "metadata": {},
   "source": [
    "Python is a very easy language to learn. If you want to store some information in a variable, you use the equals sign (=). Execute the cell below (click in it, hold shift, and press enter)."
   ]
  },
  {
   "cell_type": "code",
   "execution_count": null,
   "metadata": {
    "collapsed": false
   },
   "outputs": [],
   "source": [
    "x = 5"
   ]
  },
  {
   "cell_type": "markdown",
   "metadata": {},
   "source": [
    "Now, whenever python sees 'x' it will know that you mean 5"
   ]
  },
  {
   "cell_type": "code",
   "execution_count": null,
   "metadata": {
    "collapsed": false
   },
   "outputs": [],
   "source": [
    "print(x)"
   ]
  },
  {
   "cell_type": "markdown",
   "metadata": {},
   "source": [
    "Jupyter Notebook is special in that you don't actually have to type 'print' every time. If you just end a cell with a variable, it will tell you the value of that variable."
   ]
  },
  {
   "cell_type": "code",
   "execution_count": null,
   "metadata": {
    "collapsed": false
   },
   "outputs": [],
   "source": [
    "x"
   ]
  },
  {
   "cell_type": "markdown",
   "metadata": {},
   "source": [
    "Python has many standard features you'd find in a regular programming language. You can add things together"
   ]
  },
  {
   "cell_type": "code",
   "execution_count": null,
   "metadata": {
    "collapsed": false
   },
   "outputs": [],
   "source": [
    "x+12"
   ]
  },
  {
   "cell_type": "markdown",
   "metadata": {},
   "source": [
    "You can multiply, subtract and divide as well! Try each below!"
   ]
  },
  {
   "cell_type": "code",
   "execution_count": null,
   "metadata": {
    "collapsed": false
   },
   "outputs": [],
   "source": []
  },
  {
   "cell_type": "markdown",
   "metadata": {},
   "source": [
    "You declare strings with double quotes (\"\") or single quotes ('')"
   ]
  },
  {
   "cell_type": "code",
   "execution_count": null,
   "metadata": {
    "collapsed": false
   },
   "outputs": [],
   "source": [
    "s = \"Parrot\"\n",
    "print(s)"
   ]
  },
  {
   "cell_type": "markdown",
   "metadata": {},
   "source": [
    "Python has builtin support for lists. You can make lists with square brackets ([]). "
   ]
  },
  {
   "cell_type": "code",
   "execution_count": null,
   "metadata": {
    "collapsed": false
   },
   "outputs": [],
   "source": [
    "L = [\"Cheese\",\"Parrot\",\"Spam\",\"Sir Robin\",\"Ni!\"]\n",
    "print(L)"
   ]
  },
  {
   "cell_type": "markdown",
   "metadata": {},
   "source": [
    "You can access elements in a list using square brackets. Inside the square brackets you can put the number of the element you want to access (starting with 0)."
   ]
  },
  {
   "cell_type": "code",
   "execution_count": null,
   "metadata": {
    "collapsed": false
   },
   "outputs": [],
   "source": [
    "L[2]"
   ]
  },
  {
   "cell_type": "markdown",
   "metadata": {},
   "source": [
    "Try printing out the last value in the list using indexing. Remember you have to start counting from 0!"
   ]
  },
  {
   "cell_type": "code",
   "execution_count": null,
   "metadata": {
    "collapsed": false
   },
   "outputs": [],
   "source": []
  },
  {
   "cell_type": "markdown",
   "metadata": {},
   "source": [
    "Last python has a data structure called a dictionary. This is their implementation of a hash table. It is similar to a list except that it is indexed by other objects (keys). They are efficient and NetworkX makes extensive use of them. This are made using curly braces({}) and colons(:). They associate a name with an item. They can be useful for storing properties about an object. You can add things to dictionaries after you create them."
   ]
  },
  {
   "cell_type": "code",
   "execution_count": null,
   "metadata": {
    "collapsed": false
   },
   "outputs": [],
   "source": [
    "d = {\"Name\":\"Arthur\",\n",
    "     \"Occupation\":\"King of the Britons\",\n",
    "     \"Squire\":\"Patsy\",\n",
    "     \"Number of Subjects\":1250238}\n",
    "print(d[\"Name\"])\n",
    "d[\"Sword\"] = \"Excalibur\""
   ]
  },
  {
   "cell_type": "markdown",
   "metadata": {},
   "source": [
    "### A. If statements"
   ]
  },
  {
   "cell_type": "markdown",
   "metadata": {},
   "source": [
    "If statements allow your code to make decisions, for example:"
   ]
  },
  {
   "cell_type": "code",
   "execution_count": null,
   "metadata": {
    "collapsed": false
   },
   "outputs": [],
   "source": [
    "x = 5\n",
    "if x > 10: # Remember the '>' symbol means greater than\n",
    "    print(\"SOOO BIG!\")\n",
    "else:\n",
    "    print(\"Not so big\")"
   ]
  },
  {
   "cell_type": "markdown",
   "metadata": {},
   "source": [
    "Copy the code above, into the cell below. Change it so it prints \"SOOO BIG!\". Change it in another way so it does something different"
   ]
  },
  {
   "cell_type": "code",
   "execution_count": null,
   "metadata": {
    "collapsed": false
   },
   "outputs": [],
   "source": []
  },
  {
   "cell_type": "markdown",
   "metadata": {},
   "source": [
    "### B. Loops"
   ]
  },
  {
   "cell_type": "markdown",
   "metadata": {},
   "source": [
    "Sometimes we want to do things repeatedly. The best way to do that is with loops."
   ]
  },
  {
   "cell_type": "code",
   "execution_count": null,
   "metadata": {
    "collapsed": false
   },
   "outputs": [],
   "source": [
    "for name in [\"Bob\",\"Bill\",\"Helga\",\"Joe\",\"Mike\",\"Brenda\"]:\n",
    "    print(\"Hello, \"+name+ \"!\")"
   ]
  },
  {
   "cell_type": "markdown",
   "metadata": {},
   "source": [
    "Copy the code above. At a variable i=0 before the loop. Inside the loop make it so 1 is added to i each time through, and print i."
   ]
  },
  {
   "cell_type": "code",
   "execution_count": null,
   "metadata": {
    "collapsed": false
   },
   "outputs": [],
   "source": []
  },
  {
   "cell_type": "markdown",
   "metadata": {},
   "source": [
    "# More Python"
   ]
  },
  {
   "cell_type": "markdown",
   "metadata": {},
   "source": [
    "There is lots more to learn, but we need to get onto our network analysis. If you are interested in learning more python I recommend [Learn Python the Hard Way](http://learnpythonthehardway.org/book/). Don't worry it's not actually that hard!"
   ]
  },
  {
   "cell_type": "markdown",
   "metadata": {
    "collapsed": true
   },
   "source": [
    "# Jupyter Notebook"
   ]
  },
  {
   "cell_type": "markdown",
   "metadata": {},
   "source": [
    "Jupyter notebook has some special features that can be particularly helpful. For example it has built in completion. Let's import a module and check it out."
   ]
  },
  {
   "cell_type": "code",
   "execution_count": null,
   "metadata": {
    "collapsed": true
   },
   "outputs": [],
   "source": [
    "import numpy as np"
   ]
  },
  {
   "cell_type": "markdown",
   "metadata": {},
   "source": [
    "Now you can view all the functions in numpy by typing `np.[TAB]`, that is type `np.` and then hit the tab key"
   ]
  },
  {
   "cell_type": "code",
   "execution_count": null,
   "metadata": {
    "collapsed": true
   },
   "outputs": [],
   "source": [
    "np."
   ]
  },
  {
   "cell_type": "markdown",
   "metadata": {},
   "source": [
    "If you are looking for a particular function you can just start typing the name. Let's say we are looking for the shortest path functions in NetworkX. We would import NetworkX"
   ]
  },
  {
   "cell_type": "code",
   "execution_count": null,
   "metadata": {
    "collapsed": true
   },
   "outputs": [],
   "source": [
    "import networkx as nx"
   ]
  },
  {
   "cell_type": "markdown",
   "metadata": {},
   "source": [
    "Then we can type `nx.sho[TAB]` and it will list all the functions that start with `sho` in the networkx module"
   ]
  },
  {
   "cell_type": "code",
   "execution_count": null,
   "metadata": {
    "collapsed": true
   },
   "outputs": [],
   "source": [
    "nx.sho"
   ]
  },
  {
   "cell_type": "markdown",
   "metadata": {},
   "source": [
    "One of the best features of Jupyter notebook is the ability to read documentation. You can do this by adding a `?` to modules, classes, or functions."
   ]
  },
  {
   "cell_type": "code",
   "execution_count": null,
   "metadata": {
    "collapsed": true
   },
   "outputs": [],
   "source": [
    "nx.betweenness_centrality?"
   ]
  },
  {
   "cell_type": "markdown",
   "metadata": {},
   "source": [
    "If you want to view the code for the function you can use `??`"
   ]
  },
  {
   "cell_type": "code",
   "execution_count": null,
   "metadata": {
    "collapsed": true
   },
   "outputs": [],
   "source": [
    "nx.gnp_random_graph??"
   ]
  },
  {
   "cell_type": "markdown",
   "metadata": {},
   "source": [
    "If you'd like to learn more about the nobook check out the notebook docs [here](http://jupyter-notebook-beginner-guide.readthedocs.org/en/latest/). But this should be enough to get us started with NetworkX."
   ]
  },
  {
   "cell_type": "code",
   "execution_count": null,
   "metadata": {
    "collapsed": true
   },
   "outputs": [],
   "source": []
  }
 ],
 "metadata": {
  "kernelspec": {
   "display_name": "Python 2",
   "language": "python",
   "name": "python2"
  },
  "language_info": {
   "codemirror_mode": {
    "name": "ipython",
    "version": 2
   },
   "file_extension": ".py",
   "mimetype": "text/x-python",
   "name": "python",
   "nbconvert_exporter": "python",
   "pygments_lexer": "ipython2",
   "version": "2.7.10"
  }
 },
 "nbformat": 4,
 "nbformat_minor": 0
}
