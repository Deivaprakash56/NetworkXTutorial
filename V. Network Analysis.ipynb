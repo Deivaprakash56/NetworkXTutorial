{
 "cells": [
  {
   "cell_type": "markdown",
   "metadata": {
    "collapsed": true
   },
   "source": [
    "# Graph Measures"
   ]
  },
  {
   "cell_type": "markdown",
   "metadata": {},
   "source": [
    "In this section we'll cover some common network analysis techniques. This doesn't cover everything NetworkX is capable of, but is a should get you started exploring the rest of the package.\n",
    "\n",
    "First we are going to need import some other packages."
   ]
  },
  {
   "cell_type": "code",
   "execution_count": 2,
   "metadata": {
    "collapsed": true
   },
   "outputs": [],
   "source": [
    "import networkx as nx\n",
    "\n",
    "import numpy as np\n",
    "import matplotlib.pyplot as plt"
   ]
  },
  {
   "cell_type": "markdown",
   "metadata": {},
   "source": [
    "This is a little jupyter magic ([literally](https://ipython.org/ipython-doc/3/interactive/tutorial.html#magics-explained)], to make sure plots show up in the notebook."
   ]
  },
  {
   "cell_type": "code",
   "execution_count": 3,
   "metadata": {
    "collapsed": true
   },
   "outputs": [],
   "source": [
    "%matplotlib inline"
   ]
  },
  {
   "cell_type": "markdown",
   "metadata": {},
   "source": [
    "## Degree Distribution"
   ]
  },
  {
   "cell_type": "markdown",
   "metadata": {},
   "source": [
    "A common feature of complex networks it's their degree distribution. This is often represented as degree rank plot. Let's check out the degree rank plot of a BA Graph."
   ]
  },
  {
   "cell_type": "code",
   "execution_count": 4,
   "metadata": {
    "collapsed": true
   },
   "outputs": [],
   "source": [
    "BA = nx.barabasi_albert_graph(10000,1)"
   ]
  },
  {
   "cell_type": "markdown",
   "metadata": {},
   "source": [
    "To get the correct degree sequence, we need to get the degrees sorted in descending order. Most NetworkX functions return a dictionary, with the keys being the nodes (or edges) and the values being the result of whatever measure you are running. So we want to sort the values in reverse order."
   ]
  },
  {
   "cell_type": "code",
   "execution_count": 6,
   "metadata": {
    "collapsed": true
   },
   "outputs": [],
   "source": [
    "degrees = BA.degree()\n",
    "degree_sequence = sorted(degrees.values(),reverse=True)"
   ]
  },
  {
   "cell_type": "markdown",
   "metadata": {},
   "source": [
    "We could do this in one line if we wanted..."
   ]
  },
  {
   "cell_type": "code",
   "execution_count": 7,
   "metadata": {
    "collapsed": true
   },
   "outputs": [],
   "source": [
    "degree_sequence = sorted(BA.degree().values(),reverse=True)"
   ]
  },
  {
   "cell_type": "markdown",
   "metadata": {},
   "source": [
    "Now we need to do some plotting. Plotting using matplotlib is a lot like plotting using MATLAB. Because the degree distribution of a BA graph is a power-law, we'd like to use a plot with log scales. Here is how we'd do it."
   ]
  },
  {
   "cell_type": "code",
   "execution_count": 8,
   "metadata": {
    "collapsed": false
   },
   "outputs": [
    {
     "data": {
      "text/plain": [
       "(0.9, 10001)"
      ]
     },
     "execution_count": 8,
     "metadata": {},
     "output_type": "execute_result"
    },
    {
     "data": {
      "image/png": "[encoded data removed]",
      "text/plain": [
       "<matplotlib.figure.Figure at 0x7f1ca5492610>"
      ]
     },
     "metadata": {},
     "output_type": "display_data"
    }
   ],
   "source": [
    "# loglog tells matplotlib to use log scales.\n",
    "# The x values, range(1,10001), are the ranks, \n",
    "# and the degree_sequence are the y values.\n",
    "# The String 'k.' means use black (k) dots (.)\n",
    "plt.loglog(range(1,BA.order()+1),degree_sequence,'k.')\n",
    "plt.xlabel('Rank')\n",
    "plt.ylabel('Degree')\n",
    "plt.ylim(1,max(degree_sequence)+1)\n",
    "plt.xlim(.9,10001)"
   ]
  },
  {
   "cell_type": "markdown",
   "metadata": {},
   "source": [
    "Matplotlib is a powerful tool more info can be found on using it [here](http://matplotlib.org/users/beginner.html)."
   ]
  },
  {
   "cell_type": "markdown",
   "metadata": {},
   "source": [
    "### Degree Distribution of models"
   ]
  },
  {
   "cell_type": "markdown",
   "metadata": {},
   "source": [
    "In the original paper where the Barabási–Albert model was introduced it was stated that it provided a good explanation for the Autonomous Sytems Network. Let's build a network with similar degree structure to a recent snapshot of the Autonomous Systems Network. The data was retrieved from [UCLA's Internet Research Lab's Topology Data](http://irl.cs.ucla.edu/topology/).\n",
    "\n",
    "First, read in the network, it is in the data folder labeled `AS2013Sep.pickle`"
   ]
  },
  {
   "cell_type": "code",
   "execution_count": 9,
   "metadata": {
    "collapsed": true
   },
   "outputs": [],
   "source": [
    "AS = nx.read_gpickle('./data/AS2013Sep.pickle')"
   ]
  },
  {
   "cell_type": "markdown",
   "metadata": {},
   "source": [
    "Let's find out the number of nodes and edges in the networks, and the average degree of the network"
   ]
  },
  {
   "cell_type": "code",
   "execution_count": 10,
   "metadata": {
    "collapsed": false
   },
   "outputs": [
    {
     "data": {
      "text/plain": [
       "(45765, 181365, 7.925925925925926)"
      ]
     },
     "execution_count": 10,
     "metadata": {},
     "output_type": "execute_result"
    }
   ],
   "source": [
    "AS.order(),AS.size(),(2.0*AS.size())/AS.order()"
   ]
  },
  {
   "cell_type": "markdown",
   "metadata": {},
   "source": [
    "Let's use these values as approximates to create a BA graph of the same size with almost the same number of edges"
   ]
  },
  {
   "cell_type": "code",
   "execution_count": 11,
   "metadata": {
    "collapsed": true
   },
   "outputs": [],
   "source": [
    "BA = nx.barabasi_albert_graph(#Fill in the rest AS.order(),8)"
   ]
  },
  {
   "cell_type": "markdown",
   "metadata": {},
   "source": [
    "### Exercise"
   ]
  },
  {
   "cell_type": "markdown",
   "metadata": {},
   "source": [
    "Find the degree sequence of each, and use the code below to plot each. Is this a good model?"
   ]
  },
  {
   "cell_type": "code",
   "execution_count": null,
   "metadata": {
    "collapsed": true
   },
   "outputs": [],
   "source": [
    "BA_deg_seq = #\n",
    "AS_deg_seq = #"
   ]
  },
  {
   "cell_type": "code",
   "execution_count": 229,
   "metadata": {
    "collapsed": false
   },
   "outputs": [
    {
     "data": {
      "text/plain": [
       "<matplotlib.legend.Legend at 0x7fa4b8d3bb50>"
      ]
     },
     "execution_count": 229,
     "metadata": {},
     "output_type": "execute_result"
    },
    {
     "data": {
      "image/png": "[encoded data removed]",
      "text/plain": [
       "<matplotlib.figure.Figure at 0x7fa4b934fa90>"
      ]
     },
     "metadata": {},
     "output_type": "display_data"
    }
   ],
   "source": [
    "plt.loglog(BA_deg_seq,'b.',label='BA Model')\n",
    "plt.loglog(AS_deg_seq,'r.',label='AS Data')\n",
    "plt.xlabel('Rank')\n",
    "plt.ylabel('Degree')\n",
    "plt.legend()"
   ]
  },
  {
   "cell_type": "markdown",
   "metadata": {},
   "source": [
    "#### A note on power laws. "
   ]
  },
  {
   "cell_type": "markdown",
   "metadata": {},
   "source": [
    "It is oftern claimed that networks have power-law degree distribution. That is the probability of degree k is proportional to \n",
    "\n",
    "$$Pr[k] \\sim \\frac{1}{k^\\alpha}$$\n",
    "\n",
    "Where, $\\alpha$ is some constant. Often this is claimed pased on linear regressions of degree/rank plots. However, the appropriate way to fit power-laws is using maximum likelihood techniques. See [1] for more info\n",
    "\n",
    "[1] Clauset, Aaron, Cosma Rohilla Shalizi, and Mark EJ Newman. \"Power-law distributions in empirical data.\" _SIAM review_ 51.4 (2009): 661-703."
   ]
  },
  {
   "cell_type": "markdown",
   "metadata": {},
   "source": [
    "## Centrality"
   ]
  },
  {
   "cell_type": "markdown",
   "metadata": {},
   "source": [
    "Identifying important nodes is often a common technique in complex network analysis. Degree is a simple measure of centrality, but there are many others. Let's explore a few on some real data on Terrorists in Colonial America. I wish I could claim I came up with this, but I didn't all credit goes to \n",
    "\n",
    "[1] http://kieranhealy.org/blog/archives/2013/06/09/using-metadata-to-find-paul-revere/\n",
    "\n",
    "[2] Fischer, David Hackett. Historians' fallacies: Toward a logic of historical thought. Vol. 1970. London: Routledge & Kegan Paul, 1971.\n",
    "\n",
    "The data file contains a graph with two types of nodes, 'Organization' and 'Person'. Organizations are different groups who met in colonial America and supported independence from England. People are people attending those meetings. First let's read the file"
   ]
  },
  {
   "cell_type": "code",
   "execution_count": 12,
   "metadata": {
    "collapsed": false
   },
   "outputs": [],
   "source": [
    "G = nx.read_gpickle('./data/Revolutionaries.gpickle')"
   ]
  },
  {
   "cell_type": "markdown",
   "metadata": {},
   "source": [
    "Let's Check out the edges"
   ]
  },
  {
   "cell_type": "code",
   "execution_count": 14,
   "metadata": {
    "collapsed": false
   },
   "outputs": [
    {
     "data": {
      "text/plain": [
       "[('GeorgeTrott', 'LoyalNine'),\n",
       " ('EdwardDolbear', 'LondonEnemies'),\n",
       " ('EdwardDolbear', 'BostonCommittee'),\n",
       " ('WilliamRussell', 'TeaParty'),\n",
       " ('ThomasHunstable', 'LondonEnemies'),\n",
       " ('ThomasHunstable', 'BostonCommittee'),\n",
       " ('JosephEaton', 'TeaParty'),\n",
       " ('RobertSessions', 'TeaParty'),\n",
       " ('LoyalNine', 'JohnAvery'),\n",
       " ('LoyalNine', 'CalebHopkins'),\n",
       " ('LoyalNine', 'ThomasChase'),\n",
       " ('LoyalNine', 'JohnSmith'),\n",
       " ('LoyalNine', 'AdamCollson'),\n",
       " ('LoyalNine', 'HenryWelles'),\n",
       " ('LoyalNine', 'CalebDavis'),\n",
       " ('LoyalNine', 'HenryBass'),\n",
       " ('LoyalNine', 'NathanielHitchborn'),\n",
       " ('LoyalNine', 'WilliamGreenleaf'),\n",
       " ('SamuelDexter', 'LondonEnemies'),\n",
       " ('SamuelHobbs', 'NorthCaucus'),\n",
       " ('LongRoomClub', 'JohnAdams'),\n",
       " ('LongRoomClub', 'RoyallTyler'),\n",
       " ('LongRoomClub', 'SamuelPhillips'),\n",
       " ('LongRoomClub', 'JosephWarren'),\n",
       " ('LongRoomClub', 'JosiahQuincy'),\n",
       " ('LongRoomClub', 'EbenHancock'),\n",
       " ('LongRoomClub', 'PaulRevere'),\n",
       " ('LongRoomClub', 'SamuelAdams'),\n",
       " ('LongRoomClub', 'BenjaminChurch'),\n",
       " ('LongRoomClub', 'JamesOtis'),\n",
       " ('LongRoomClub', 'BenjaminClarke'),\n",
       " ('LongRoomClub', 'JohnHancock'),\n",
       " ('LongRoomClub', 'JohnWinslow'),\n",
       " ('CalebDavis', 'NorthCaucus'),\n",
       " ('CalebDavis', 'LondonEnemies'),\n",
       " ('CalebDavis', 'TeaParty'),\n",
       " ('AmbroseFerrell', 'LondonEnemies'),\n",
       " ('EdwardJarvis', 'TeaParty'),\n",
       " ('JamesGraham', 'StAndrewsLodge'),\n",
       " ('RobertDavis', 'StAndrewsLodge'),\n",
       " ('WilliamGreenleaf', 'NorthCaucus'),\n",
       " ('WilliamGreenleaf', 'LondonEnemies'),\n",
       " ('WilliamGreenleaf', 'TeaParty'),\n",
       " ('NorthCaucus', 'GibbensSharp'),\n",
       " ('NorthCaucus', 'NathanielAppleton'),\n",
       " ('NorthCaucus', 'EzekielCheever'),\n",
       " ('NorthCaucus', 'JohnBoit'),\n",
       " ('NorthCaucus', 'JonathanStoddard'),\n",
       " ('NorthCaucus', 'ElishaStory'),\n",
       " ('NorthCaucus', 'WaitGray'),\n",
       " ('NorthCaucus', 'EbenHancock'),\n",
       " ('NorthCaucus', 'SamuelAdams'),\n",
       " ('NorthCaucus', 'GeorgeHewes'),\n",
       " ('NorthCaucus', 'JohnHancock'),\n",
       " ('NorthCaucus', 'EbenSymmes'),\n",
       " ('NorthCaucus', 'JohnCochran'),\n",
       " ('NorthCaucus', 'WilliamMolineux'),\n",
       " ('NorthCaucus', 'JohnWinthrop'),\n",
       " ('NorthCaucus', 'SamuelEmmes'),\n",
       " ('NorthCaucus', 'ThomasChase'),\n",
       " ('NorthCaucus', 'NathanielBarber'),\n",
       " ('NorthCaucus', 'AmosLincoln'),\n",
       " ('NorthCaucus', 'IsaacPearce'),\n",
       " ('NorthCaucus', 'WilliamHendley'),\n",
       " ('NorthCaucus', 'SamuelHammond'),\n",
       " ('NorthCaucus', 'HenryBass'),\n",
       " ('NorthCaucus', 'JohnMatchett'),\n",
       " ('NorthCaucus', 'WilliamCooper'),\n",
       " ('NorthCaucus', 'JosephGreenleaf'),\n",
       " ('NorthCaucus', 'BenjaminClarke'),\n",
       " ('NorthCaucus', 'CalebChampney'),\n",
       " ('NorthCaucus', 'RichardPalms'),\n",
       " ('NorthCaucus', 'WilliamBreck'),\n",
       " ('NorthCaucus', 'JohnAdams'),\n",
       " ('NorthCaucus', 'AsaStoddard'),\n",
       " ('NorthCaucus', 'CalebHopkins'),\n",
       " ('NorthCaucus', 'AbielRuddock'),\n",
       " ('NorthCaucus', 'NewnGreenough'),\n",
       " ('NorthCaucus', 'SamuelCooper'),\n",
       " ('NorthCaucus', 'JamesSwan'),\n",
       " ('NorthCaucus', 'NathanielGreene'),\n",
       " ('NorthCaucus', 'ThomasTileston'),\n",
       " ('NorthCaucus', 'BenjaminBurt'),\n",
       " ('NorthCaucus', 'MosesGill'),\n",
       " ('NorthCaucus', 'WilliamDavis'),\n",
       " ('NorthCaucus', 'DrAllen'),\n",
       " ('NorthCaucus', 'EdwardProctor'),\n",
       " ('NorthCaucus', 'BenjaminChurch'),\n",
       " ('NorthCaucus', 'JohnHoffins'),\n",
       " ('NorthCaucus', 'CaptCazneau'),\n",
       " ('NorthCaucus', 'JohnPulling'),\n",
       " ('NorthCaucus', 'JohnBallard'),\n",
       " ('NorthCaucus', 'UnknownJefferds'),\n",
       " ('NorthCaucus', 'ThomasPeck'),\n",
       " ('NorthCaucus', 'JosephWarren'),\n",
       " ('NorthCaucus', 'JohnMerrit'),\n",
       " ('NorthCaucus', 'PerezMorton'),\n",
       " ('NorthCaucus', 'SamuelWhite'),\n",
       " ('NorthCaucus', 'PaulRevere'),\n",
       " ('NorthCaucus', 'ThomasYoung'),\n",
       " ('NorthCaucus', 'EliasParkman'),\n",
       " ('NorthCaucus', 'IsaacJunPearce'),\n",
       " ('NorthCaucus', 'JohnSigourney'),\n",
       " ('NorthCaucus', 'ThomasChrysty'),\n",
       " ('NorthCaucus', 'EdwardHowe'),\n",
       " ('NorthCaucus', 'JohnSymmes'),\n",
       " ('NorthCaucus', 'StephenCleverly'),\n",
       " ('NorthCaucus', 'MrChadwell'),\n",
       " ('NorthCaucus', 'ThomasUrann'),\n",
       " ('JobPrince', 'LondonEnemies'),\n",
       " ('JosephField', 'LondonEnemies'),\n",
       " ('NicholasCampbell', 'TeaParty'),\n",
       " ('BosFoster', 'LondonEnemies'),\n",
       " ('SamuelBarrett', 'StAndrewsLodge'),\n",
       " ('SamuelBarrett', 'LondonEnemies'),\n",
       " ('ThomasKimball', 'LondonEnemies'),\n",
       " ('EzraCollins', 'LondonEnemies'),\n",
       " ('BenjaminEdes', 'StAndrewsLodge'),\n",
       " ('JosephMountford', 'TeaParty'),\n",
       " ('OliverWendell', 'LondonEnemies'),\n",
       " ('OliverWendell', 'BostonCommittee'),\n",
       " ('WalterKerr', 'StAndrewsLodge'),\n",
       " ('FortesqueVernon', 'LondonEnemies'),\n",
       " ('AlexanderInglish', 'TeaParty'),\n",
       " ('NathanielWillis', 'TeaParty'),\n",
       " ('GershomCollier', 'LondonEnemies'),\n",
       " ('ArchibaldMacNeil', 'TeaParty'),\n",
       " ('SamuelMoody', 'StAndrewsLodge'),\n",
       " ('CalebHopkins', 'LondonEnemies'),\n",
       " ('CalebHopkins', 'TeaParty'),\n",
       " ('MatthewLoring', 'TeaParty'),\n",
       " ('HermanBrimmer', 'LondonEnemies'),\n",
       " ('EnochBrown', 'LondonEnemies'),\n",
       " ('WilliamPalfrey', 'StAndrewsLodge'),\n",
       " ('JosephPayson', 'TeaParty'),\n",
       " ('ThomasSpear', 'TeaParty'),\n",
       " ('JosiahFlagg', 'StAndrewsLodge'),\n",
       " ('JamesSeward', 'StAndrewsLodge'),\n",
       " ('ThomasMoore', 'TeaParty'),\n",
       " ('JohnHooton', 'StAndrewsLodge'),\n",
       " ('JohnHooton', 'LondonEnemies'),\n",
       " ('WilliamWhitwell', 'LondonEnemies'),\n",
       " ('PeterBoyer', 'LondonEnemies'),\n",
       " ('EdwardBurbeck', 'StAndrewsLodge'),\n",
       " ('EliasParkman', 'LondonEnemies'),\n",
       " ('NathanielHolmes', 'TeaParty'),\n",
       " ('JohnRussell', 'TeaParty'),\n",
       " ('EzekielCheever', 'LondonEnemies'),\n",
       " ('JohnLambert', 'TeaParty'),\n",
       " ('ThomasYoung', 'BostonCommittee'),\n",
       " ('ThomasYoung', 'TeaParty'),\n",
       " ('JohnPitts', 'LondonEnemies'),\n",
       " ('NathanielBarber', 'LondonEnemies'),\n",
       " ('NathanielBarber', 'BostonCommittee'),\n",
       " ('NathanielBarber', 'TeaParty'),\n",
       " ('LendallPitts', 'TeaParty'),\n",
       " ('WilliamPowell', 'LondonEnemies'),\n",
       " ('WilliamPowell', 'BostonCommittee'),\n",
       " ('JonathanHunnewell', 'TeaParty'),\n",
       " ('JonathanParker', 'TeaParty'),\n",
       " ('SamuelFoster', 'TeaParty'),\n",
       " ('HenryPurkitt', 'TeaParty'),\n",
       " ('NathanielAppleton', 'BostonCommittee'),\n",
       " ('JohnSweetser', 'BostonCommittee'),\n",
       " ('JonathanWilliams', 'LondonEnemies'),\n",
       " ('SamPartridge', 'LondonEnemies'),\n",
       " ('ElishaCallendar', 'StAndrewsLodge'),\n",
       " ('SamuelAdams', 'LondonEnemies'),\n",
       " ('SamuelAdams', 'BostonCommittee'),\n",
       " ('JamesSwan', 'TeaParty'),\n",
       " ('ThomasChase', 'LondonEnemies'),\n",
       " ('ThomasChase', 'TeaParty'),\n",
       " ('ThomasWebster', 'StAndrewsLodge'),\n",
       " ('ThomasPorter', 'TeaParty'),\n",
       " ('BenjaminAustin', 'LondonEnemies'),\n",
       " ('PierceIsaac', 'TeaParty'),\n",
       " ('GeorgeHewes', 'BostonCommittee'),\n",
       " ('PhillipMarett', 'StAndrewsLodge'),\n",
       " ('SamuelAustin', 'LondonEnemies'),\n",
       " ('JamesStarr', 'TeaParty'),\n",
       " ('WilliamEtheridge', 'TeaParty'),\n",
       " ('SamuelFenno', 'LondonEnemies'),\n",
       " ('JohnLowell', 'StAndrewsLodge'),\n",
       " ('NatNoyces', 'LondonEnemies'),\n",
       " ('JohnCrane', 'StAndrewsLodge'),\n",
       " ('JohnCrane', 'LondonEnemies'),\n",
       " ('WilliamMolineux', 'BostonCommittee'),\n",
       " ('WilliamMolineux', 'TeaParty'),\n",
       " ('StephenBruce', 'TeaParty'),\n",
       " ('JonathanMason', 'LondonEnemies'),\n",
       " ('DanielIngersoll', 'LondonEnemies'),\n",
       " ('DanielIngersoll', 'BostonCommittee'),\n",
       " ('PaulRevere', 'StAndrewsLodge'),\n",
       " ('PaulRevere', 'LondonEnemies'),\n",
       " ('PaulRevere', 'TeaParty'),\n",
       " ('JosephEayres', 'TeaParty'),\n",
       " ('SamuelPitts', 'LondonEnemies'),\n",
       " ('ThomasMachin', 'TeaParty'),\n",
       " ('EdwardPotter', 'StAndrewsLodge'),\n",
       " ('JohnRandall', 'TeaParty'),\n",
       " ('AlexanderHill', 'LondonEnemies'),\n",
       " ('WilliamHoskins', 'StAndrewsLodge'),\n",
       " ('JamesFosterCondy', 'LondonEnemies'),\n",
       " ('JohnBrown', 'LondonEnemies'),\n",
       " ('JosBrackett', 'LondonEnemies'),\n",
       " ('RichardHunnewell', 'LondonEnemies'),\n",
       " ('AnthonyMorse', 'TeaParty'),\n",
       " ('JosephPalmer', 'TeaParty'),\n",
       " ('WilliamPhillips', 'LondonEnemies'),\n",
       " ('GilbertColesworthy', 'StAndrewsLodge'),\n",
       " ('BenjaminWaldo', 'LondonEnemies'),\n",
       " ('JosephWebb', 'StAndrewsLodge'),\n",
       " ('JohnPeters', 'TeaParty'),\n",
       " ('ThomasRoylson', 'LondonEnemies'),\n",
       " ('WilliamMackay', 'BostonCommittee'),\n",
       " ('WilliamBurbeck', 'StAndrewsLodge'),\n",
       " ('SethChipman', 'StAndrewsLodge'),\n",
       " ('PhillipLewis', 'StAndrewsLodge'),\n",
       " ('ThomasFleet', 'LondonEnemies'),\n",
       " ('SamuelHoward', 'StAndrewsLodge'),\n",
       " ('ThomasBolter', 'TeaParty'),\n",
       " ('JamesIvers', 'TeaParty'),\n",
       " ('JohnMay', 'TeaParty'),\n",
       " ('MartinBrimmer', 'LondonEnemies'),\n",
       " ('EbenJohnston', 'LondonEnemies'),\n",
       " ('CyrusBaldwin', 'LondonEnemies'),\n",
       " ('ThomasCrafts', 'TeaParty'),\n",
       " ('RobertPierpont', 'BostonCommittee'),\n",
       " ('WilliamGould', 'StAndrewsLodge'),\n",
       " ('AmbroseSloper', 'StAndrewsLodge'),\n",
       " ('JohnWinthrop', 'LondonEnemies'),\n",
       " ('JohnBradford', 'LondonEnemies'),\n",
       " ('JohnBradford', 'BostonCommittee'),\n",
       " ('JohnWhitten', 'StAndrewsLodge'),\n",
       " ('EbenezerStevens', 'TeaParty'),\n",
       " ('EdwardCailleteau', 'StAndrewsLodge'),\n",
       " ('CharlesJarvis', 'StAndrewsLodge'),\n",
       " ('ThomasHitchborn', 'LondonEnemies'),\n",
       " ('JohnJenkins', 'TeaParty'),\n",
       " ('WilliamBell', 'StAndrewsLodge'),\n",
       " ('WilliamCooper', 'LondonEnemies'),\n",
       " ('WilliamCooper', 'BostonCommittee'),\n",
       " ('WilliamCooper', 'TeaParty'),\n",
       " ('JohnPhillips', 'StAndrewsLodge'),\n",
       " ('JohnHancock', 'LondonEnemies'),\n",
       " ('JohnHancock', 'BostonCommittee'),\n",
       " ('SamuelWhitwell', 'LondonEnemies'),\n",
       " ('PeterSlater', 'TeaParty'),\n",
       " ('HenryStanbridge', 'StAndrewsLodge'),\n",
       " ('AbielRuddock', 'LondonEnemies'),\n",
       " ('BenjaminBurton', 'TeaParty'),\n",
       " ('NewnGreenough', 'LondonEnemies'),\n",
       " ('AdamCollson', 'LondonEnemies'),\n",
       " ('JeremiahWilliams', 'TeaParty'),\n",
       " ('MosesGrant', 'TeaParty'),\n",
       " ('NathanielFrothingham', 'StAndrewsLodge'),\n",
       " ('SamuelGore', 'TeaParty'),\n",
       " ('GeorgeBray', 'StAndrewsLodge'),\n",
       " ('HughBrown', 'StAndrewsLodge'),\n",
       " ('RichardBoynton', 'LondonEnemies'),\n",
       " ('RichardBoynton', 'BostonCommittee'),\n",
       " ('JosephLee', 'StAndrewsLodge'),\n",
       " ('JohnPrince', 'TeaParty'),\n",
       " ('JoshuaWyeth', 'TeaParty'),\n",
       " ('JohnHicks', 'LondonEnemies'),\n",
       " ('HenryPrentiss', 'TeaParty'),\n",
       " ('SamuelPeck', 'StAndrewsLodge'),\n",
       " ('SamuelPeck', 'TeaParty'),\n",
       " ('JosiahQuincy', 'BostonCommittee'),\n",
       " ('SamuelBarnard', 'TeaParty'),\n",
       " ('SamuelSprague', 'TeaParty'),\n",
       " ('BenjaminKent', 'LondonEnemies'),\n",
       " ('JohnMarlton', 'StAndrewsLodge'),\n",
       " ('CaptMacKintosh', 'TeaParty'),\n",
       " ('RichardPulling', 'StAndrewsLodge'),\n",
       " ('ThomasMilliken', 'StAndrewsLodge'),\n",
       " ('WilliamHam', 'StAndrewsLodge'),\n",
       " ('EdwardDavis', 'StAndrewsLodge'),\n",
       " ('ElishaStory', 'TeaParty'),\n",
       " ('HenryWelles', 'StAndrewsLodge'),\n",
       " ('JamesOtis', 'BostonCommittee'),\n",
       " ('LondonEnemies', 'JohnAvery'),\n",
       " ('LondonEnemies', 'MosesDeshon'),\n",
       " ('LondonEnemies', 'AbrahamHunt'),\n",
       " ('LondonEnemies', 'WilliamDennie'),\n",
       " ('LondonEnemies', 'ThomasMarshall'),\n",
       " ('LondonEnemies', 'JohnHoffins'),\n",
       " ('LondonEnemies', 'HenryBass'),\n",
       " ('LondonEnemies', 'BenjaminClarke'),\n",
       " ('LondonEnemies', 'DavidKinnison'),\n",
       " ('LondonEnemies', 'NathanielHitchborn'),\n",
       " ('LondonEnemies', 'JohnMarson'),\n",
       " ('LondonEnemies', 'JosephWarren'),\n",
       " ('LondonEnemies', 'JohnPulling'),\n",
       " ('LondonEnemies', 'HenryBroomfield'),\n",
       " ('LondonEnemies', 'GabrielJohonnott'),\n",
       " ('LondonEnemies', 'EdwardProctor'),\n",
       " ('EdwardProctor', 'TeaParty'),\n",
       " ('JohnGammell', 'StAndrewsLodge'),\n",
       " ('DavidBradlee', 'TeaParty'),\n",
       " ('JohnCochran', 'BostonCommittee'),\n",
       " ('JamesBewer', 'TeaParty'),\n",
       " ('WilliamHickling', 'StAndrewsLodge'),\n",
       " ('WilliamPierce', 'TeaParty'),\n",
       " ('JosiahWheeler', 'TeaParty'),\n",
       " ('UnknownEckley', 'TeaParty'),\n",
       " ('JohnSpurr', 'TeaParty'),\n",
       " ('HenryBass', 'TeaParty'),\n",
       " ('BenjaminClarke', 'BostonCommittee'),\n",
       " ('IsraelObear', 'StAndrewsLodge'),\n",
       " ('JosephRoby', 'TeaParty'),\n",
       " ('BenjaminSimpson', 'TeaParty'),\n",
       " ('BostonCommittee', 'MosesDeshon'),\n",
       " ('BostonCommittee', 'JohnHoffins'),\n",
       " ('JosiahBradlee', 'TeaParty'),\n",
       " ('IncreaseBlake', 'StAndrewsLodge'),\n",
       " ('NathanielBradlee', 'TeaParty'),\n",
       " ('WilliamMcAlpine', 'StAndrewsLodge'),\n",
       " ('PhineasStearns', 'TeaParty'),\n",
       " ('ThomasDawes', 'TeaParty'),\n",
       " ('ThomasMelville', 'TeaParty'),\n",
       " ('JosephShed', 'TeaParty'),\n",
       " ('StAndrewsLodge', 'WilliamWingfield'),\n",
       " ('StAndrewsLodge', 'PhilipTabor'),\n",
       " ('StAndrewsLodge', 'JosephWarren'),\n",
       " ('StAndrewsLodge', 'GilbertAsh'),\n",
       " ('StAndrewsLodge', 'UnknownNicholls'),\n",
       " ('StAndrewsLodge', 'ThomasUrann'),\n",
       " ('PeterDoyle', 'TeaParty'),\n",
       " ('JohnHoffins', 'TeaParty'),\n",
       " ('ThomasWilliams', 'TeaParty'),\n",
       " ('TeaParty', 'ThomasUrann'),\n",
       " ('TeaParty', 'ElipheletNewell'),\n",
       " ('TeaParty', 'ThomasBradlee')]"
      ]
     },
     "execution_count": 14,
     "metadata": {},
     "output_type": "execute_result"
    }
   ],
   "source": [
    "G.edges()"
   ]
  },
  {
   "cell_type": "markdown",
   "metadata": {},
   "source": [
    "We can see that the edges are between people and organizations. We are curious about the connections between people. We could write a function to create a new graph in which two people are connected if they co-attend a meeting, and the edge has a weight indicates the number of meetings they both attended. But that sounds hard, luckily NetworkX can do it for us. First let's make a list of nodes for organizations and people."
   ]
  },
  {
   "cell_type": "code",
   "execution_count": 15,
   "metadata": {
    "collapsed": true
   },
   "outputs": [],
   "source": [
    "orgs = [n for n in G.nodes() if G.node[n]['type']=='Organization']\n",
    "people = [n for n in G.nodes() if G.node[n]['type']=='Person']"
   ]
  },
  {
   "cell_type": "markdown",
   "metadata": {},
   "source": [
    "Now we can use that handy function"
   ]
  },
  {
   "cell_type": "code",
   "execution_count": 20,
   "metadata": {
    "collapsed": false
   },
   "outputs": [],
   "source": [
    "O = nx.bipartite.weighted_projected_graph(G,orgs) # Connections between people based on co-meeting attendence\n",
    "R = nx.bipartite.weighted_projected_graph(G,people) # Overlap among meeting attendees"
   ]
  },
  {
   "cell_type": "markdown",
   "metadata": {},
   "source": [
    "We can use a quick python trick to determine who has the highest degree. Adding the keyword wight indicates that we should use _weighted_ edges."
   ]
  },
  {
   "cell_type": "code",
   "execution_count": 18,
   "metadata": {
    "collapsed": false
   },
   "outputs": [
    {
     "data": {
      "text/plain": [
       "[('PaulRevere', 294),\n",
       " ('NathanielBarber', 251),\n",
       " ('WilliamCooper', 251),\n",
       " ('JohnHoffins', 251),\n",
       " ('WilliamGreenleaf', 238)]"
      ]
     },
     "execution_count": 18,
     "metadata": {},
     "output_type": "execute_result"
    }
   ],
   "source": [
    "deg = R.degree(weight='weight')\n",
    "sorted(deg.items(), # Look at all the degrees as a tuple (node,degree)\n",
    "       key=lambda i: i[1], # Sort the list by the second item in the tuple\n",
    "       reverse=True)[:5] # Reverse the list (highest degree first), and only give the first 5"
   ]
  },
  {
   "cell_type": "markdown",
   "metadata": {},
   "source": [
    "Another important measure of centrality is the betweenneess centrality"
   ]
  },
  {
   "cell_type": "code",
   "execution_count": 19,
   "metadata": {
    "collapsed": false
   },
   "outputs": [
    {
     "data": {
      "text/plain": [
       "[('PaulRevere', 0.10569232954134766),\n",
       " ('ThomasUrann', 0.073477249994178),\n",
       " ('JosephWarren', 0.05105029194128703),\n",
       " ('SamuelPeck', 0.04049453565036781),\n",
       " ('WilliamGreenleaf', 0.024984397850401206)]"
      ]
     },
     "execution_count": 19,
     "metadata": {},
     "output_type": "execute_result"
    }
   ],
   "source": [
    "btw = nx.betweenness_centrality(R,weight='weight')\n",
    "sorted(btw.items(),\n",
    "       key=lambda i: i[1],\n",
    "       reverse=True)[:5]"
   ]
  },
  {
   "cell_type": "markdown",
   "metadata": {},
   "source": [
    "Try plotting the betweenness centrality vs the degree for each node. Instead of using `plt.loglog`, use `plt.semilogy`"
   ]
  },
  {
   "cell_type": "code",
   "execution_count": 85,
   "metadata": {
    "collapsed": false
   },
   "outputs": [
    {
     "data": {
      "text/plain": [
       "<matplotlib.text.Text at 0x7fa4b5067e90>"
      ]
     },
     "execution_count": 85,
     "metadata": {},
     "output_type": "execute_result"
    },
    {
     "data": {
      "image/png": "[encoded data removed]",
      "text/plain": [
       "<matplotlib.figure.Figure at 0x7fa4b4eccfd0>"
      ]
     },
     "metadata": {},
     "output_type": "display_data"
    }
   ],
   "source": []
  },
  {
   "cell_type": "markdown",
   "metadata": {},
   "source": [
    "### Exercise"
   ]
  },
  {
   "cell_type": "markdown",
   "metadata": {},
   "source": [
    "Do a similar analysis with the network of oranizations `O`, which is organziation is most central to the revolution?\n",
    "\n",
    "First calculate the degree and betweenness for each of the nodes"
   ]
  },
  {
   "cell_type": "code",
   "execution_count": 78,
   "metadata": {
    "collapsed": false
   },
   "outputs": [],
   "source": [
    "deg = O.degree()\n",
    "btw = nx.betweenness_centrality(O)"
   ]
  },
  {
   "cell_type": "markdown",
   "metadata": {},
   "source": [
    "Since the number of organizations is small, it might not be the worst idea to draw the network. Here is a Red, White and Blue network drawing..."
   ]
  },
  {
   "cell_type": "code",
   "execution_count": 23,
   "metadata": {
    "collapsed": false
   },
   "outputs": [
    {
     "data": {
      "image/png": "[encoded data removed]",
      "text/plain": [
       "<matplotlib.figure.Figure at 0x7f1c9e596fd0>"
      ]
     },
     "metadata": {},
     "output_type": "display_data"
    }
   ],
   "source": [
    "size = [G.degree(org)**2 for org in O.nodes()]\n",
    "width = [d['weight'] for (u,v,d) in O.edges(data=True)]\n",
    "\n",
    "plt.figure(figsize=(14,10)) #We'll make it bigger\n",
    "nx.draw(M, width=width,\n",
    "           with_labels=True,\n",
    "           edge_color='r',\n",
    "           node_color='b',\n",
    "           node_size=size,\n",
    "           font_size=24)"
   ]
  },
  {
   "cell_type": "code",
   "execution_count": 80,
   "metadata": {
    "collapsed": false
   },
   "outputs": [
    {
     "data": {
      "text/plain": [
       "[('LondonEnemies', 6),\n",
       " ('TeaParty', 6),\n",
       " ('NorthCaucus', 6),\n",
       " ('LongRoomClub', 5),\n",
       " ('StAndrewsLodge', 5),\n",
       " ('LoyalNine', 4),\n",
       " ('BostonCommittee', 4)]"
      ]
     },
     "execution_count": 80,
     "metadata": {},
     "output_type": "execute_result"
    }
   ],
   "source": []
  },
  {
   "cell_type": "code",
   "execution_count": 81,
   "metadata": {
    "collapsed": false
   },
   "outputs": [
    {
     "data": {
      "text/plain": [
       "[('LondonEnemies', 0.05555555555555555),\n",
       " ('TeaParty', 0.05555555555555555),\n",
       " ('NorthCaucus', 0.05555555555555555),\n",
       " ('LongRoomClub', 0.016666666666666666),\n",
       " ('StAndrewsLodge', 0.016666666666666666),\n",
       " ('LoyalNine', 0.0),\n",
       " ('BostonCommittee', 0.0)]"
      ]
     },
     "execution_count": 81,
     "metadata": {},
     "output_type": "execute_result"
    }
   ],
   "source": []
  },
  {
   "cell_type": "markdown",
   "metadata": {},
   "source": [
    "## Phase Transitions"
   ]
  },
  {
   "cell_type": "markdown",
   "metadata": {},
   "source": [
    "Some random graph models experience phase transitions like other physical phenomona. For example, the Erdos-Renyi graph that we already explored experiences a phase transition in the size of the giant connected component when the average degree of the model cross a certain threshold. We are going to use NetworkX to explore that threshold. \n",
    "\n",
    "Recall that an Erdos-Renyi random graph is one where there is an edge between each node with probability $p$. The ER model has expected number of Edges $\\mathbb{E}[|E|]={n \\choose 2}p$. With a little math on the degree distribution, we can find that the average degree will be $k=np$, and $p=\\frac{k}{n}$.\n",
    "\n",
    "The giant component is defined as the largest connected component in the graph. Let's explore how the size of the giant component changes for a graph of size 100, as we incrase the average degree."
   ]
  },
  {
   "cell_type": "code",
   "execution_count": 24,
   "metadata": {
    "collapsed": false
   },
   "outputs": [],
   "source": [
    "n = 100\n",
    "ks = np.arange(.1,3,.02)\n",
    "GCC_size = []\n",
    "for k in ks:\n",
    "    G = nx.gnp_random_graph(n,k/n)\n",
    "    GC = sorted(nx.connected_component_subgraphs(G),key=lambda C: len(C),reverse=True)[0]\n",
    "    GCC_size.append(float(len(GC))/n)"
   ]
  },
  {
   "cell_type": "code",
   "execution_count": 25,
   "metadata": {
    "collapsed": false
   },
   "outputs": [
    {
     "data": {
      "text/plain": [
       "<matplotlib.text.Text at 0x7f1c9ea7bf90>"
      ]
     },
     "execution_count": 25,
     "metadata": {},
     "output_type": "execute_result"
    },
    {
     "data": {
      "image/png": "[encoded data removed]",
      "text/plain": [
       "<matplotlib.figure.Figure at 0x7f1c9eb35050>"
      ]
     },
     "metadata": {},
     "output_type": "display_data"
    }
   ],
   "source": [
    "plt.plot(ks,GCC_size,marker='.',lw=0)\n",
    "plt.xlabel('Average Degree')\n",
    "plt.ylabel('Relative size of Giant Component')"
   ]
  },
  {
   "cell_type": "markdown",
   "metadata": {},
   "source": [
    "Looks pretty messy. This is because each graph is a random instance. Let's make 50 graphs for each possible average degree."
   ]
  },
  {
   "cell_type": "code",
   "execution_count": 26,
   "metadata": {
    "collapsed": false
   },
   "outputs": [],
   "source": [
    "N = 50 # Number of times to create a graph\n",
    "n = 100 # Graph Size\n",
    "ks = np.arange(.1,3,.1) # A bunch of average degrees, separated by .1 from .1 to 3\n",
    "GCC_size = [] #List to store the size of the giant component\n",
    "for k in ks:\n",
    "    GCs = []\n",
    "    for _ in range(N):\n",
    "        G = nx.gnp_random_graph(n,k/n) #generate teh graph\n",
    "        GC = sorted(nx.connected_component_subgraphs(G),key=lambda C: len(C),reverse=True)[0] #graph teh largest component\n",
    "        GCs.append(float(len(GC))/n) # Measure it's size\n",
    "    GCC_size.append(np.mean(GCs)) # Take the average and append it to the list"
   ]
  },
  {
   "cell_type": "code",
   "execution_count": 27,
   "metadata": {
    "collapsed": false
   },
   "outputs": [
    {
     "data": {
      "text/plain": [
       "<matplotlib.text.Text at 0x7f1c9e8fba10>"
      ]
     },
     "execution_count": 27,
     "metadata": {},
     "output_type": "execute_result"
    },
    {
     "data": {
      "image/png": "[encoded data removed]",
      "text/plain": [
       "<matplotlib.figure.Figure at 0x7f1c9c26e110>"
      ]
     },
     "metadata": {},
     "output_type": "display_data"
    }
   ],
   "source": [
    "plt.plot(ks,GCC_size,marker='.',lw=0)\n",
    "plt.xlabel('Average Degree')\n",
    "plt.ylabel('Average Relative size of Giant Component')"
   ]
  },
  {
   "cell_type": "markdown",
   "metadata": {},
   "source": [
    "Now let's test it for various values of $n$"
   ]
  },
  {
   "cell_type": "code",
   "execution_count": 28,
   "metadata": {
    "collapsed": false
   },
   "outputs": [
    {
     "name": "stdout",
     "output_type": "stream",
     "text": [
      "10\n",
      "50\n",
      "100\n",
      "250\n",
      "500\n"
     ]
    },
    {
     "data": {
      "text/plain": [
       "<matplotlib.text.Text at 0x7f1c9ee4dc90>"
      ]
     },
     "execution_count": 28,
     "metadata": {},
     "output_type": "execute_result"
    },
    {
     "data": {
      "image/png": "[encoded data removed]",
      "text/plain": [
       "<matplotlib.figure.Figure at 0x7f1c8f4c4090>"
      ]
     },
     "metadata": {},
     "output_type": "display_data"
    }
   ],
   "source": [
    "ks = np.arange(.1,3,.1)\n",
    "N = 50\n",
    "for n in [10,50,100,250,500]:\n",
    "    print(n)\n",
    "    GCC_size = []\n",
    "    for k in ks:\n",
    "        GCs = []\n",
    "        for _ in range(N):\n",
    "            G = nx.gnp_random_graph(n,k/n)\n",
    "            GC = sorted(nx.connected_component_subgraphs(G),key=lambda C: len(C),reverse=True)[0]\n",
    "            GCs.append(float(len(GC))/n)\n",
    "        GCC_size.append(np.mean(GCs))\n",
    "    plt.plot(ks,GCC_size,marker='.',label=str(n),lw=0)\n",
    "plt.legend(loc='lower right')\n",
    "plt.xlabel('Average Degree')\n",
    "plt.ylabel('Relative size of Giant Component')"
   ]
  },
  {
   "cell_type": "markdown",
   "metadata": {},
   "source": [
    "Notice how the transition gets sharper as $n$ gets larger."
   ]
  },
  {
   "cell_type": "markdown",
   "metadata": {},
   "source": [
    "## Community Detection"
   ]
  },
  {
   "cell_type": "markdown",
   "metadata": {
    "collapsed": true
   },
   "source": [
    "Determining different node types solely from network data is one of the most powerful tools in network analysis. NetworkX has limited capacity for community detection, but some new algorithms are coming with version 2.0. I've included one function here in the tutorial"
   ]
  },
  {
   "cell_type": "code",
   "execution_count": 29,
   "metadata": {
    "collapsed": false
   },
   "outputs": [],
   "source": [
    "import community"
   ]
  },
  {
   "cell_type": "markdown",
   "metadata": {},
   "source": [
    "The first is a classic algorithm due to Girvan-Newman. It progressively removes the highest betweenness edges from a graph until graph becomes disconnected. Then it repeateds the process into successively smaller groups. Let's test it on a generated graph we know has two communities.\n",
    "\n",
    "A connected caveman graph is a graph with $k$ complete graphs connected in a ring."
   ]
  },
  {
   "cell_type": "code",
   "execution_count": 30,
   "metadata": {
    "collapsed": false
   },
   "outputs": [],
   "source": [
    "G = nx.connected_caveman_graph(2,10)"
   ]
  },
  {
   "cell_type": "code",
   "execution_count": 31,
   "metadata": {
    "collapsed": false
   },
   "outputs": [],
   "source": [
    "group1 = range(10)\n",
    "group2 = range(10,20)"
   ]
  },
  {
   "cell_type": "markdown",
   "metadata": {},
   "source": [
    "Let's see what partitions Girvan Newman can partition the graph correctly"
   ]
  },
  {
   "cell_type": "code",
   "execution_count": 32,
   "metadata": {
    "collapsed": true
   },
   "outputs": [],
   "source": [
    "comm = community.girvan_newman(G)"
   ]
  },
  {
   "cell_type": "markdown",
   "metadata": {},
   "source": [
    "`comm` will have the breakdown of the graph at each stage of the algorithm, so the first item in the list is the graph broken into two parts."
   ]
  },
  {
   "cell_type": "code",
   "execution_count": 33,
   "metadata": {
    "collapsed": false
   },
   "outputs": [
    {
     "data": {
      "text/plain": [
       "([0, 1, 2, 3, 4, 5, 6, 7, 8, 9], [10, 11, 12, 13, 14, 15, 16, 17, 18, 19])"
      ]
     },
     "execution_count": 33,
     "metadata": {},
     "output_type": "execute_result"
    }
   ],
   "source": [
    "comm[0]"
   ]
  },
  {
   "cell_type": "markdown",
   "metadata": {},
   "source": [
    "### Excercose"
   ]
  },
  {
   "cell_type": "markdown",
   "metadata": {},
   "source": [
    "Now you try with the karate club graph"
   ]
  },
  {
   "cell_type": "code",
   "execution_count": 34,
   "metadata": {
    "collapsed": true
   },
   "outputs": [],
   "source": [
    "KC = nx.karate_club_graph()"
   ]
  },
  {
   "cell_type": "code",
   "execution_count": 218,
   "metadata": {
    "collapsed": false
   },
   "outputs": [],
   "source": []
  },
  {
   "cell_type": "markdown",
   "metadata": {},
   "source": [
    "Let's see how the algorithm did on identifying different groups. In the Karate Club Graph, nodes have an attribute `club` which is the group affiliatino and is either `Mr. Hi` or `Officer`."
   ]
  },
  {
   "cell_type": "code",
   "execution_count": 220,
   "metadata": {
    "collapsed": false
   },
   "outputs": [
    {
     "data": {
      "text/plain": [
       "[(0, {'club': 'Mr. Hi'}),\n",
       " (1, {'club': 'Mr. Hi'}),\n",
       " (2, {'club': 'Mr. Hi'}),\n",
       " (3, {'club': 'Mr. Hi'}),\n",
       " (4, {'club': 'Mr. Hi'}),\n",
       " (5, {'club': 'Mr. Hi'}),\n",
       " (6, {'club': 'Mr. Hi'}),\n",
       " (7, {'club': 'Mr. Hi'}),\n",
       " (8, {'club': 'Mr. Hi'}),\n",
       " (9, {'club': 'Officer'}),\n",
       " (10, {'club': 'Mr. Hi'}),\n",
       " (11, {'club': 'Mr. Hi'}),\n",
       " (12, {'club': 'Mr. Hi'}),\n",
       " (13, {'club': 'Mr. Hi'}),\n",
       " (14, {'club': 'Officer'}),\n",
       " (15, {'club': 'Officer'}),\n",
       " (16, {'club': 'Mr. Hi'}),\n",
       " (17, {'club': 'Mr. Hi'}),\n",
       " (18, {'club': 'Officer'}),\n",
       " (19, {'club': 'Mr. Hi'}),\n",
       " (20, {'club': 'Officer'}),\n",
       " (21, {'club': 'Mr. Hi'}),\n",
       " (22, {'club': 'Officer'}),\n",
       " (23, {'club': 'Officer'}),\n",
       " (24, {'club': 'Officer'}),\n",
       " (25, {'club': 'Officer'}),\n",
       " (26, {'club': 'Officer'}),\n",
       " (27, {'club': 'Officer'}),\n",
       " (28, {'club': 'Officer'}),\n",
       " (29, {'club': 'Officer'}),\n",
       " (30, {'club': 'Officer'}),\n",
       " (31, {'club': 'Officer'}),\n",
       " (32, {'club': 'Officer'}),\n",
       " (33, {'club': 'Officer'})]"
      ]
     },
     "execution_count": 220,
     "metadata": {},
     "output_type": "execute_result"
    }
   ],
   "source": [
    "KC.nodes(data=True)"
   ]
  },
  {
   "cell_type": "markdown",
   "metadata": {
    "collapsed": false
   },
   "source": [
    "Create two lists, one with all the nodes who are members of Mr. Hi's group and those that are members of Officer's group"
   ]
  },
  {
   "cell_type": "code",
   "execution_count": null,
   "metadata": {
    "collapsed": true
   },
   "outputs": [],
   "source": [
    "mrHi = #\n",
    "officer = #"
   ]
  },
  {
   "cell_type": "markdown",
   "metadata": {},
   "source": [
    "Compare them to the divisions found by the algorithm."
   ]
  },
  {
   "cell_type": "code",
   "execution_count": 222,
   "metadata": {
    "collapsed": false
   },
   "outputs": [
    {
     "data": {
      "text/plain": [
       "([0, 1, 3, 4, 5, 6, 7, 10, 11, 12, 13, 16, 17, 19, 21],\n",
       " [0, 1, 2, 3, 4, 5, 6, 7, 8, 10, 11, 12, 13, 16, 17, 19, 21])"
      ]
     },
     "execution_count": 222,
     "metadata": {},
     "output_type": "execute_result"
    }
   ],
   "source": [
    "sorted(comm[0][0]),sorted(mrHi)"
   ]
  },
  {
   "cell_type": "code",
   "execution_count": 223,
   "metadata": {
    "collapsed": false
   },
   "outputs": [
    {
     "data": {
      "text/plain": [
       "([2, 8, 9, 14, 15, 18, 20, 22, 23, 24, 25, 26, 27, 28, 29, 30, 31, 32, 33],\n",
       " [9, 14, 15, 18, 20, 22, 23, 24, 25, 26, 27, 28, 29, 30, 31, 32, 33])"
      ]
     },
     "execution_count": 223,
     "metadata": {},
     "output_type": "execute_result"
    }
   ],
   "source": [
    "sorted(comm[0][1]),sorted(officer)"
   ]
  },
  {
   "cell_type": "markdown",
   "metadata": {},
   "source": [
    "Since this graph isn't that large, we could actually plot it. We'll make the first found community red, and the second community blue. If the nodes are misclassified we'll put a thick border around them."
   ]
  },
  {
   "cell_type": "code",
   "execution_count": 224,
   "metadata": {
    "collapsed": false
   },
   "outputs": [
    {
     "data": {
      "image/png": "[encoded data removed]",
      "text/plain": [
       "<matplotlib.figure.Figure at 0x7fa4b8af9310>"
      ]
     },
     "metadata": {},
     "output_type": "display_data"
    }
   ],
   "source": [
    "colors = []\n",
    "for n in KC.nodes():\n",
    "    if n in comm[0][0]:\n",
    "        colors.append('r')\n",
    "    else:\n",
    "        colors.append('b')\n",
    "lwidths = []\n",
    "for n in KC.nodes():\n",
    "    if n in comm[0][0] and n in mrHi:\n",
    "        lwidths.append(0)\n",
    "    elif n in comm[0][1] and n in officer:\n",
    "        lwidths.append(0)\n",
    "    else:\n",
    "        lwidths.append(2)\n",
    "nx.draw(KC,node_color=colors,linewidths=lwidths)"
   ]
  }
 ],
 "metadata": {
  "kernelspec": {
   "display_name": "Python 2",
   "language": "python",
   "name": "python2"
  },
  "language_info": {
   "codemirror_mode": {
    "name": "ipython",
    "version": 2
   },
   "file_extension": ".py",
   "mimetype": "text/x-python",
   "name": "python",
   "nbconvert_exporter": "python",
   "pygments_lexer": "ipython2",
   "version": "2.7.10"
  }
 },
 "nbformat": 4,
 "nbformat_minor": 0
}
