{
 "cells": [
  {
   "cell_type": "markdown",
   "metadata": {
    "collapsed": true
   },
   "source": [
    "# Dynamics on Networks"
   ]
  },
  {
   "cell_type": "markdown",
   "metadata": {},
   "source": [
    "Because of Python's flexibility, it is not only easy to do network analysis using NetworkX, but with a minimal amount of code we can simulate dynamics on networks.\n",
    "\n",
    "In this section we'll simulate disease dynamics on NetworkX graphs. This last section is optional, you can choose to work on it, or to try to start doing your own work using NetworkX. I'll be available to help."
   ]
  },
  {
   "cell_type": "markdown",
   "metadata": {},
   "source": [
    "## SIR Dynamics"
   ]
  },
  {
   "cell_type": "markdown",
   "metadata": {},
   "source": [
    "In this section you will implement and describe SIR dynamics on a network. You\n",
    "should implement the dynamics as follows:\n",
    "\n",
    "1. Mark all nodes as susceptible\n",
    "2. Select a single node to begin the infection.\n",
    "3. While there are infected nodes \\textbf{do}:\n",
    "  - For each infected node $u$ in the previous step\n",
    "     1. For each neighbor of $u$, $v$\n",
    "        - If $v$ is susceptible set $v$ to infected with probability $\\beta$\n",
    "     2. Set $u$ to recovered\n",
    "\n",
    "\n",
    "Note here that we are assuming that nodes are infected for exactly one time\n",
    "step before they move into a recovered state, i.e. $\\gamma=1$. Below is the outline of the function"
   ]
  },
  {
   "cell_type": "code",
   "execution_count": 4,
   "metadata": {
    "collapsed": true
   },
   "outputs": [],
   "source": [
    "import networkx as nx"
   ]
  },
  {
   "cell_type": "code",
   "execution_count": 5,
   "metadata": {
    "collapsed": true
   },
   "outputs": [],
   "source": [
    "def simulate_SIR(G,beta,n0=None):\n",
    "    if n0 is None:\n",
    "        n0 = [random.choice(G.nodes())]\n",
    "    infected = [set(n0)]\n",
    "    recovered = set([])\n",
    "    t = 1\n",
    "    while True:\n",
    "        current_infected = infected[t-1]\n",
    "        next_infected = set([])\n",
    "        for u in current_infected:\n",
    "            for v in set(G.neighbors(u)) - recovered.union(current_infected.union(next_infected)):\n",
    "                if random.random() < beta:\n",
    "                    next_infected.add(v)\n",
    "            recovered.add(u)\n",
    "        infected.append(next_infected)\n",
    "        if len(next_infected) == 0:\n",
    "            break\n",
    "        t += 1\n",
    "    return infected,recovered"
   ]
  },
  {
   "cell_type": "markdown",
   "metadata": {},
   "source": [
    "There are three graphs stored in the `data` folder that correspond to three different real world networks. They are stored as edgelists so use the appropriate function to read them\n",
    "\n",
    "1. `celegans.g`: A metabolic network of the nematode\n",
    "    _Caenorhabditis elegans_[1]\n",
    "2. `jazz.g`: A network of collaborations among Jazz\n",
    "    Musicians.[2]\n",
    "3. `ISPDec2014.g`: A network of connections between ISPs, taken\n",
    "    during the last week of December 2014.[3]\n",
    "\n",
    "[1] Duch, Jordi, and Alex Arenas. \"Community detection in complex networks using extremal optimization.\" Physical review E 72.2 (2005): 027104.\n",
    "\n",
    "[2] Gleiser, Pablo M., and Leon Danon. \"Community structure in jazz.\" Advances in complex systems 6.04 (2003): 565-573.\n",
    "\n",
    "[3] Edwards, Benjamin, et al. \"Analyzing and Modeling Longitudinal Security Data: Promise and Pitfalls.\" Proceedings of the 31st Annual Computer Security Applications Conference. ACM, 2015."
   ]
  },
  {
   "cell_type": "markdown",
   "metadata": {},
   "source": [
    "## Infections over time"
   ]
  },
  {
   "cell_type": "markdown",
   "metadata": {},
   "source": [
    "For each graph, simulate the SIR dynamics starting with a single node and\n",
    "record the fraction of nodes in the network infected over time for three\n",
    "different values of $\\beta$.  Because the SIR dynamics are stochastic, you will\n",
    "have to simulate each infection multiple times. Plot the average of these runs\n",
    "over time as well as the standard errors as error bars for each value of\n",
    "$\\beta$. "
   ]
  },
  {
   "cell_type": "markdown",
   "metadata": {},
   "source": [
    "## Infection Properties"
   ]
  },
  {
   "cell_type": "markdown",
   "metadata": {},
   "source": [
    "Next investigate you will investigate the behavior of infection spread for\n",
    "various values of $\\beta$. Select at least 20 different values of $\\beta$.\n",
    "Simulate the SIR dynamics on the network starting with a random node, measuring\n",
    "the total proportion of the network that becomes infected. Be sure to simulate the\n",
    "infection enough times that you can reasonably estimate mean and standard\n",
    "deviation of each of these measures (at least 100). For each measure, make a\n",
    "plot of the $\\beta$ values and the measure for each of the three networks.\n",
    "Include the mean and error bars for the standard deviation. Report on what\n",
    "each measure tells us about the three different networks."
   ]
  },
  {
   "cell_type": "markdown",
   "metadata": {},
   "source": [
    "## Influential Spreaders"
   ]
  },
  {
   "cell_type": "markdown",
   "metadata": {},
   "source": [
    "It might be important to know which nodes in the network are most capable of\n",
    "spreading disease. This may be important to identify the best way to stop the\n",
    "spread of infections or the best way to spread information in a network. We\n",
    "will measure how influential a node is by measuring the average proportion of\n",
    "the network which becomes infected when the infection starts with that node.\n",
    "Using $\\beta=0.2$ measure the mean infection size when started from each node\n",
    "in each network. Once again be run at least 100 simulations for each node. In a\n",
    "table, report the most and least influential nodes, and the average size of the\n",
    "infection they create."
   ]
  },
  {
   "cell_type": "markdown",
   "metadata": {},
   "source": [
    "## Network Measures to Identify Influential Spreaders"
   ]
  },
  {
   "cell_type": "markdown",
   "metadata": {},
   "source": [
    "Rather than run simulations it may be useful to use other network measures to\n",
    "identify influential spreaders in the network. Using the software package of\n",
    "your choice compute each of the following measures for each node in the\n",
    "network:\n",
    "\n",
    "\n",
    "1. **Degree**: Number of edges each node has.\n",
    "2. **Average Shortest Path Length**: For each node $u$ compute the\n",
    "  shortest path to all other nodes $v$, and take the average of their lengths\n",
    "3. **Betweenness Centrality**: The fraction of all shortest paths a\n",
    "    node in the network participates in.\n",
    "\n",
    "\n",
    "For each network, make a scatter plot where each point is each the $(x,y)$ pair,\n",
    "where $x$ is each of the above measures for a single node, and $y$ is the\n",
    "average infection size when the infection starts at that node.\n",
    "\n",
    "Which of the measures provides the best prediction of infection size? Why does\n",
    "each perform well or poorly?  Investigate other network measures and speculate\n",
    "why they might be better at identifying influential spreaders. Be sure to cite\n",
    "your sources."
   ]
  },
  {
   "cell_type": "code",
   "execution_count": null,
   "metadata": {
    "collapsed": true
   },
   "outputs": [],
   "source": []
  }
 ],
 "metadata": {
  "kernelspec": {
   "display_name": "Python 2",
   "language": "python",
   "name": "python2"
  },
  "language_info": {
   "codemirror_mode": {
    "name": "ipython",
    "version": 2
   },
   "file_extension": ".py",
   "mimetype": "text/x-python",
   "name": "python",
   "nbconvert_exporter": "python",
   "pygments_lexer": "ipython2",
   "version": "2.7.10"
  }
 },
 "nbformat": 4,
 "nbformat_minor": 0
}
