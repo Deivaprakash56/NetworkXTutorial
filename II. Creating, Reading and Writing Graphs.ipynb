{
 "cells": [
  {
   "cell_type": "code",
   "execution_count": 3,
   "metadata": {
    "collapsed": true
   },
   "outputs": [],
   "source": [
    "import networkx as nx"
   ]
  },
  {
   "cell_type": "markdown",
   "metadata": {},
   "source": [
    "# NetworkX Data Capabilities"
   ]
  },
  {
   "cell_type": "markdown",
   "metadata": {},
   "source": [
    "NetworkX has many built in functions to read data from a variety of formats. Because formats can be pretty esoteric this is also the source of many bugs. Please if you find them report them. Here is a brief list of the file formats NetworkX can read and write, and their corresponding function names\n",
    "\n",
    "| Format | Read Function | Write Function |\n",
    "| - | -| -|\n",
    "| Adjacency List| `nx.read_adjlist` | `nx.write_adjlist`|\n",
    "| Edge List |`nx.read_edgelist` | `nx.write_edgelist`|\n",
    "| Graph Exchange XML Format (GEXF)| `nx.read_gexf` |`nx.write_gexf`|\n",
    "| Graph Modeling Language (GML)| `nx.read_gml` |`nx.write_gml`|\n",
    "| Pickle, Python's serialization format for NetworkX graphs| `nx.read_gpickle` | `nx.write_gpickle`|\n",
    "| GraphML | `nx.read_graphml` |`nx.write_graphml`|\n",
    "| Leda | `nx.read_leda` | `nx.write_leda`|\n",
    "| Multiline Adjacency List| `nx.read_multiline_adjlist` | `nx.write_multiline_adjlist`|\n",
    "| Esri Shapefile| `nx.read_shp` |`nx.write_shp`|\n",
    "| Yet Another Markup Language (YAML)| `nx.read_yaml` | `nx.write_yaml`|\n",
    "| p2g (metabolic pathways)|`nx.read_p2g` | `nx.write_p2g`|\n",
    "| pajek|`nx.read_pajek` | `nx.write_pajek`|\n",
    "| sparse6|`nx.read_sparse6` | `nx.write_sparse6`|"
   ]
  },
  {
   "cell_type": "markdown",
   "metadata": {},
   "source": [
    "## Exercise"
   ]
  },
  {
   "cell_type": "markdown",
   "metadata": {},
   "source": [
    "1. What format did we save the classroom graph in the last session? Load it using the correct function.\n",
    "2. Save the same graph using a different format above. Save it to the `./data/` folder"
   ]
  },
  {
   "cell_type": "code",
   "execution_count": null,
   "metadata": {
    "collapsed": true
   },
   "outputs": [],
   "source": []
  },
  {
   "cell_type": "markdown",
   "metadata": {},
   "source": [
    "# Creating Graphs from Other Python Data Structures"
   ]
  },
  {
   "cell_type": "markdown",
   "metadata": {},
   "source": [
    "## Matrices and Arrays"
   ]
  },
  {
   "cell_type": "markdown",
   "metadata": {},
   "source": [
    "It is often useful to create graphs from other types of python data structures. In particular, graphs are often represented by matrices. If your data has a matrix represenatation, NetworkX can easily create a graph using `from_numpy_matrix`"
   ]
  },
  {
   "cell_type": "code",
   "execution_count": 4,
   "metadata": {
    "collapsed": true
   },
   "outputs": [],
   "source": [
    "import numpy as np"
   ]
  },
  {
   "cell_type": "code",
   "execution_count": 5,
   "metadata": {
    "collapsed": true
   },
   "outputs": [],
   "source": [
    "n = 25\n",
    "A = np.random.binomial(1,1.1/n,size=(n,n)) # Random 1/s with probability 1/25\n",
    "G = nx.from_numpy_matrix(A)"
   ]
  },
  {
   "cell_type": "code",
   "execution_count": 6,
   "metadata": {
    "collapsed": false
   },
   "outputs": [
    {
     "data": {
      "text/plain": [
       "25"
      ]
     },
     "execution_count": 6,
     "metadata": {},
     "output_type": "execute_result"
    }
   ],
   "source": [
    "G.order()"
   ]
  },
  {
   "cell_type": "code",
   "execution_count": 7,
   "metadata": {
    "collapsed": false
   },
   "outputs": [
    {
     "data": {
      "text/plain": [
       "22"
      ]
     },
     "execution_count": 7,
     "metadata": {},
     "output_type": "execute_result"
    }
   ],
   "source": [
    "G.size()"
   ]
  },
  {
   "cell_type": "code",
   "execution_count": 8,
   "metadata": {
    "collapsed": false
   },
   "outputs": [
    {
     "data": {
      "text/plain": [
       "{0: 0,\n",
       " 1: 0,\n",
       " 2: 0,\n",
       " 3: 2,\n",
       " 4: 3,\n",
       " 5: 5,\n",
       " 6: 3,\n",
       " 7: 0,\n",
       " 8: 1,\n",
       " 9: 0,\n",
       " 10: 4,\n",
       " 11: 0,\n",
       " 12: 3,\n",
       " 13: 0,\n",
       " 14: 3,\n",
       " 15: 4,\n",
       " 16: 2,\n",
       " 17: 3,\n",
       " 18: 2,\n",
       " 19: 1,\n",
       " 20: 3,\n",
       " 21: 2,\n",
       " 22: 1,\n",
       " 23: 0,\n",
       " 24: 2}"
      ]
     },
     "execution_count": 8,
     "metadata": {},
     "output_type": "execute_result"
    }
   ],
   "source": [
    "G.degree()"
   ]
  },
  {
   "cell_type": "markdown",
   "metadata": {},
   "source": [
    "### Quick Quiz..."
   ]
  },
  {
   "cell_type": "markdown",
   "metadata": {},
   "source": [
    "What kind of graph is the one above?"
   ]
  },
  {
   "cell_type": "markdown",
   "metadata": {},
   "source": [
    "NetworkX can handle other data structures such as a list of edges (`from_edgelist`) and `scipy` sparse matrices (`scipy_sparse_matrix`). You can use the `create_using` keyword to make a `DiGraph`s or `MultiGraph`s."
   ]
  },
  {
   "cell_type": "code",
   "execution_count": 9,
   "metadata": {
    "collapsed": true
   },
   "outputs": [],
   "source": [
    "edges = []\n",
    "for u in range(n):\n",
    "    for v in range(n):\n",
    "        if u % 3==0 and u>v:\n",
    "            edges.append((u,v))\n",
    "        elif u % 3 == 1 and v < u:\n",
    "            edges.append((u,v))\n",
    "        "
   ]
  },
  {
   "cell_type": "code",
   "execution_count": 10,
   "metadata": {
    "collapsed": false
   },
   "outputs": [],
   "source": [
    "D = nx.from_edgelist(edges,create_using=nx.DiGraph())"
   ]
  },
  {
   "cell_type": "markdown",
   "metadata": {},
   "source": [
    "You can also create matrices out of already created graphs"
   ]
  },
  {
   "cell_type": "code",
   "execution_count": 11,
   "metadata": {
    "collapsed": true
   },
   "outputs": [],
   "source": [
    "G = nx.Graph()\n",
    "for u in range(5):\n",
    "    G.add_edge(u,u,index=u) # Self loops!"
   ]
  },
  {
   "cell_type": "code",
   "execution_count": 12,
   "metadata": {
    "collapsed": false
   },
   "outputs": [
    {
     "data": {
      "text/plain": [
       "matrix([[ 1.,  0.,  0.,  0.,  0.],\n",
       "        [ 0.,  1.,  0.,  0.,  0.],\n",
       "        [ 0.,  0.,  1.,  0.,  0.],\n",
       "        [ 0.,  0.,  0.,  1.,  0.],\n",
       "        [ 0.,  0.,  0.,  0.,  1.]])"
      ]
     },
     "execution_count": 12,
     "metadata": {},
     "output_type": "execute_result"
    }
   ],
   "source": [
    "nx.to_numpy_matrix(G)"
   ]
  },
  {
   "cell_type": "markdown",
   "metadata": {},
   "source": [
    "You can output weighted matrices too"
   ]
  },
  {
   "cell_type": "code",
   "execution_count": 13,
   "metadata": {
    "collapsed": false
   },
   "outputs": [
    {
     "data": {
      "text/plain": [
       "matrix([[ 0.,  0.,  0.,  0.,  0.],\n",
       "        [ 0.,  1.,  0.,  0.,  0.],\n",
       "        [ 0.,  0.,  2.,  0.,  0.],\n",
       "        [ 0.,  0.,  0.,  3.,  0.],\n",
       "        [ 0.,  0.,  0.,  0.,  4.]])"
      ]
     },
     "execution_count": 13,
     "metadata": {},
     "output_type": "execute_result"
    }
   ],
   "source": [
    "nx.to_numpy_matrix(G,weight='index')"
   ]
  },
  {
   "cell_type": "markdown",
   "metadata": {},
   "source": [
    "## Other Graphs"
   ]
  },
  {
   "cell_type": "markdown",
   "metadata": {},
   "source": [
    "Another obvious way to create graphs is to use other graphs. This can be especially useful when coverting between `Graph`s and `DiGraphs` or making copies of graphs for modification."
   ]
  },
  {
   "cell_type": "code",
   "execution_count": 14,
   "metadata": {
    "collapsed": true
   },
   "outputs": [],
   "source": [
    "D = nx.DiGraph()\n",
    "D.add_star(range(5))\n",
    "D.add_cycle(range(5,10))\n",
    "D.add_edge(4,5)"
   ]
  },
  {
   "cell_type": "code",
   "execution_count": 15,
   "metadata": {
    "collapsed": true
   },
   "outputs": [],
   "source": [
    "G = nx.Graph(D)"
   ]
  },
  {
   "cell_type": "code",
   "execution_count": 16,
   "metadata": {
    "collapsed": false
   },
   "outputs": [
    {
     "data": {
      "text/plain": [
       "[(0, 1),\n",
       " (0, 2),\n",
       " (0, 3),\n",
       " (0, 4),\n",
       " (4, 5),\n",
       " (5, 9),\n",
       " (5, 6),\n",
       " (6, 7),\n",
       " (7, 8),\n",
       " (8, 9)]"
      ]
     },
     "execution_count": 16,
     "metadata": {},
     "output_type": "execute_result"
    }
   ],
   "source": [
    "G.edges()"
   ]
  },
  {
   "cell_type": "code",
   "execution_count": 17,
   "metadata": {
    "collapsed": true
   },
   "outputs": [],
   "source": [
    "G = nx.Graph()\n",
    "G.add_star(range(5))\n",
    "D = nx.DiGraph(G)"
   ]
  },
  {
   "cell_type": "code",
   "execution_count": 18,
   "metadata": {
    "collapsed": false
   },
   "outputs": [
    {
     "data": {
      "text/plain": [
       "[(0, 1), (0, 2), (0, 3), (0, 4), (1, 0), (2, 0), (3, 0), (4, 0)]"
      ]
     },
     "execution_count": 18,
     "metadata": {},
     "output_type": "execute_result"
    }
   ],
   "source": [
    "D.edges()"
   ]
  },
  {
   "cell_type": "markdown",
   "metadata": {},
   "source": [
    "Notice when we create a directed graph from a graph we get edges in both directions."
   ]
  },
  {
   "cell_type": "markdown",
   "metadata": {},
   "source": [
    "## Graph Operations"
   ]
  },
  {
   "cell_type": "markdown",
   "metadata": {},
   "source": [
    "Finally, NetworkX includes a number of graph operations to make combining graphs easier. First some exercises so we have some graphs to mess with.\n",
    "\n",
    "1. Create a complete graph called `C` of five nodes\n",
    "2. Create a line graph and called `L` of 10 nodes\n",
    "3. Create a star graph called `S` with of 7 nodes with 0 at it's center"
   ]
  },
  {
   "cell_type": "code",
   "execution_count": 15,
   "metadata": {
    "collapsed": true
   },
   "outputs": [],
   "source": []
  },
  {
   "cell_type": "code",
   "execution_count": 16,
   "metadata": {
    "collapsed": true
   },
   "outputs": [],
   "source": []
  },
  {
   "cell_type": "code",
   "execution_count": 17,
   "metadata": {
    "collapsed": false
   },
   "outputs": [],
   "source": []
  },
  {
   "cell_type": "markdown",
   "metadata": {},
   "source": [
    "Try out these functions, what do they produce?\n",
    " - `nx.compose(C,L)`\n",
    " - `nx.cartesian_product(S,L)`\n",
    " - `nx.complement(S)`"
   ]
  },
  {
   "cell_type": "markdown",
   "metadata": {},
   "source": [
    "### Exercises"
   ]
  },
  {
   "cell_type": "markdown",
   "metadata": {},
   "source": [
    "To get ready for the next section let's write a function that implements the [Kronecker Graph of order k](http://arxiv.org/pdf/0812.4905v2.pdf). This is simply the `tensor_product` of a graph applied to itself k times.\n",
    "That is, if we have a graph $G$, with adjacency matrix $A$ and kronecker product(tensor product) $\\otimes$, the _Kronecker Graph_ of order $k$ is a graph with Adjacency matrix\n",
    "\n",
    "$$(A)^k = \\underbrace{A \\otimes A \\otimes \\cdots \\otimes A}_{ k \\text{ terms}}$$\n",
    "\n",
    "\n",
    "Let's also assume that the kronecker graph always has self loops on all the nodes.\n",
    "\n",
    "I'll give you the function stub and you can fill in the details"
   ]
  },
  {
   "cell_type": "code",
   "execution_count": 18,
   "metadata": {
    "collapsed": false
   },
   "outputs": [],
   "source": [
    "def kronecker_graph(G,k):\n",
    "    \n",
    "    K = nx.Graph(G) # For the kronecker graph we are going to return\n",
    "    B = nx.Graph(G) # For the base graph \n",
    "    \n",
    "    for n in K: \n",
    "        #Add self loops here! to \n",
    "        \n",
    "    for i in range(k-1):\n",
    "        K = nx.tensor_product(K,B)\n",
    "    return K"
   ]
  },
  {
   "cell_type": "markdown",
   "metadata": {},
   "source": [
    "Make a kronecker graph of order $k=2$ out of the Line graph `L`.\n",
    " - How many nodes should it have?"
   ]
  },
  {
   "cell_type": "code",
   "execution_count": 19,
   "metadata": {
    "collapsed": false
   },
   "outputs": [],
   "source": [
    "K = kronecker_graph(L,2)"
   ]
  }
 ],
 "metadata": {
  "kernelspec": {
   "display_name": "Python 2",
   "language": "python",
   "name": "python2"
  },
  "language_info": {
   "codemirror_mode": {
    "name": "ipython",
    "version": 2
   },
   "file_extension": ".py",
   "mimetype": "text/x-python",
   "name": "python",
   "nbconvert_exporter": "python",
   "pygments_lexer": "ipython2",
   "version": "2.7.10"
  }
 },
 "nbformat": 4,
 "nbformat_minor": 0
}
